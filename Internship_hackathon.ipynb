{
  "cells": [
    {
      "cell_type": "markdown",
      "source": [
        "# Concept Briefing\n"
      ],
      "metadata": {
        "id": "2NcIv8r1AUtC"
      }
    },
    {
      "cell_type": "markdown",
      "metadata": {
        "id": "39SQZ3mMRA7v"
      },
      "source": [
        " # Improvement of Quality Education in Online mode.\n",
        "Qualtiy of education in online mode has many problems. And sometimes biggest problem is network problem, and transmission as sometimes information transfered has noise which makes information is not unnderstandable. Also second biggest problem is student understanding. so my first proposal is to generate automatic notes of what tracher says in class and organise it to put it in notes format. \n",
        "\n",
        "\n"
      ]
    },
    {
      "cell_type": "markdown",
      "metadata": {
        "id": "6ZsDnbNJY4C5"
      },
      "source": [
        "for the first part we will put speech recognition and apply a text summarization bot on the speech recorded. after the notes are made best way to understand notes is having visuals with it, so all the lines will have it associated with bookmark in window, with some picture of class board on screen sharing which can be manual or ai based.\n",
        "\n"
      ]
    },
    {
      "cell_type": "markdown",
      "metadata": {
        "id": "YLaSKhm9ZeV6"
      },
      "source": [
        "This concept whic are best suitable for the approach for above mentioned situation can be as followed:\n",
        "\n",
        "\n",
        "*   Text capturing can be AI based which can automatically filter out speech recorded from noise and unwanted statements or unimportant conversations.\n",
        "-Text can be summarized using online text summarizers present or we can use simple algorithms ai based to do so.\n",
        "-we can then specify a time in video for all the lines that were recordes and start for a topic can be linked to the text.\n",
        "*   List item\n",
        "\n",
        "\n",
        "                            "
      ]
    },
    {
      "cell_type": "markdown",
      "source": [
        "# Requiremets"
      ],
      "metadata": {
        "id": "xMYdDg7xAjf4"
      }
    },
    {
      "cell_type": "markdown",
      "source": [
        "Here i will be telling you requirements you need for this program:-\n",
        "1.   Pyaudio - pip install Pyaudio  \n",
        "2.   SpeechRecognition-pip install speech recognition\n",
        "3.Google speech api- pip install google-api-python-client\n",
        "4.pip intall matplotlib \n",
        "5.pip install spicy\n",
        "6.spacy- pip install spacy\n",
        "7.pip install gensim\n",
        "8.pip install jsonlib\n",
        "9.pip install vosk\n",
        "10.py-kaldi-asr\n",
        "\n",
        "\n",
        "\n"
      ],
      "metadata": {
        "id": "l1Zlvr_8AqFE"
      }
    },
    {
      "cell_type": "markdown",
      "source": [
        "# Importing Modules"
      ],
      "metadata": {
        "id": "9LWoSdtaCHZV"
      }
    },
    {
      "cell_type": "code",
      "execution_count": 32,
      "metadata": {
        "id": "40FH141_3xvl"
      },
      "outputs": [],
      "source": [
        "import numpy as np \n",
        "import pandas as pd \n",
        "import matplotlib.pyplot as plt\n",
        "from scipy.io import wavfile"
      ]
    },
    {
      "cell_type": "code",
      "execution_count": 33,
      "metadata": {
        "colab": {
          "base_uri": "https://localhost:8080/"
        },
        "id": "laFk7Z4c8w7F",
        "outputId": "601542f5-6845-4a03-b38f-0fbe44339b5b"
      },
      "outputs": [
        {
          "output_type": "stream",
          "name": "stdout",
          "text": [
            "Collecting SpeechRecognition\n",
            "  Downloading SpeechRecognition-3.8.1-py2.py3-none-any.whl (32.8 MB)\n",
            "\u001b[K     |████████████████████████████████| 32.8 MB 1.2 MB/s \n",
            "\u001b[?25hInstalling collected packages: SpeechRecognition\n",
            "Successfully installed SpeechRecognition-3.8.1\n"
          ]
        }
      ],
      "source": [
        "!pip install SpeechRecognition\n",
        "import speech_recognition as sr\n"
      ]
    },
    {
      "cell_type": "code",
      "source": [
        "import spacy\n",
        "from spacy.lang.en.stop_words import STOP_WORDS\n",
        "from string import punctuation \n",
        "from heapq import nlargest\n",
        "import textwrap"
      ],
      "metadata": {
        "id": "d_v97rvlAJmd"
      },
      "execution_count": 34,
      "outputs": []
    },
    {
      "cell_type": "code",
      "source": [
        "import cv2\n",
        "import math \n",
        "%matplotlib inline\n",
        "from keras.preprocessing import image\n",
        "from keras.utils import np_utils \n",
        "from skimage.transform import resize "
      ],
      "metadata": {
        "id": "025hv7mdQD_9"
      },
      "execution_count": 35,
      "outputs": []
    },
    {
      "cell_type": "code",
      "source": [
        "!pip install gensim\n",
        "import gensim\n",
        "import nltk\n",
        "from sklearn.datasets import fetch_20newsgroups\n",
        "newsgroups_train = fetch_20newsgroups(subset='train', shuffle = True)\n",
        "newsgroups_test = fetch_20newsgroups(subset='test', shuffle = True)"
      ],
      "metadata": {
        "colab": {
          "base_uri": "https://localhost:8080/"
        },
        "id": "S0zhMwoeC-30",
        "outputId": "e5332bf3-f485-4fb9-d6a5-bf1bfc30fba1"
      },
      "execution_count": 12,
      "outputs": [
        {
          "output_type": "stream",
          "name": "stdout",
          "text": [
            "Requirement already satisfied: gensim in /usr/local/lib/python3.7/dist-packages (3.6.0)\n",
            "Requirement already satisfied: six>=1.5.0 in /usr/local/lib/python3.7/dist-packages (from gensim) (1.15.0)\n",
            "Requirement already satisfied: smart-open>=1.2.1 in /usr/local/lib/python3.7/dist-packages (from gensim) (6.0.0)\n",
            "Requirement already satisfied: numpy>=1.11.3 in /usr/local/lib/python3.7/dist-packages (from gensim) (1.21.6)\n",
            "Requirement already satisfied: scipy>=0.18.1 in /usr/local/lib/python3.7/dist-packages (from gensim) (1.4.1)\n"
          ]
        }
      ]
    },
    {
      "cell_type": "code",
      "source": [
        "!pip install jsonlib\n",
        "import wave\n",
        "import json\n",
        "!pip install vosk\n",
        "from vosk import Model,KaldiRecognizer,SetLogLevel\n"
      ],
      "metadata": {
        "colab": {
          "base_uri": "https://localhost:8080/"
        },
        "id": "Vn66r5SUKG2d",
        "outputId": "bb7f0932-698e-4c2e-d6ab-927f6c419651"
      },
      "execution_count": 36,
      "outputs": [
        {
          "output_type": "stream",
          "name": "stdout",
          "text": [
            "Collecting jsonlib\n",
            "  Using cached jsonlib-1.6.1.tar.gz (43 kB)\n",
            "Building wheels for collected packages: jsonlib\n",
            "  Building wheel for jsonlib (setup.py) ... \u001b[?25lerror\n",
            "\u001b[31m  ERROR: Failed building wheel for jsonlib\u001b[0m\n",
            "\u001b[?25h  Running setup.py clean for jsonlib\n",
            "Failed to build jsonlib\n",
            "Installing collected packages: jsonlib\n",
            "    Running setup.py install for jsonlib ... \u001b[?25l\u001b[?25herror\n",
            "\u001b[31mERROR: Command errored out with exit status 1: /usr/bin/python3 -u -c 'import io, os, sys, setuptools, tokenize; sys.argv[0] = '\"'\"'/tmp/pip-install-vooeqtx2/jsonlib_7fc71e2ebe3743bb89e9483ef0faecd1/setup.py'\"'\"'; __file__='\"'\"'/tmp/pip-install-vooeqtx2/jsonlib_7fc71e2ebe3743bb89e9483ef0faecd1/setup.py'\"'\"';f = getattr(tokenize, '\"'\"'open'\"'\"', open)(__file__) if os.path.exists(__file__) else io.StringIO('\"'\"'from setuptools import setup; setup()'\"'\"');code = f.read().replace('\"'\"'\\r\\n'\"'\"', '\"'\"'\\n'\"'\"');f.close();exec(compile(code, __file__, '\"'\"'exec'\"'\"'))' install --record /tmp/pip-record-s_32vb9o/install-record.txt --single-version-externally-managed --compile --install-headers /usr/local/include/python3.7/jsonlib Check the logs for full command output.\u001b[0m\n",
            "Requirement already satisfied: vosk in /usr/local/lib/python3.7/dist-packages (0.3.37)\n",
            "Requirement already satisfied: cffi>=1.0 in /usr/local/lib/python3.7/dist-packages (from vosk) (1.15.0)\n",
            "Requirement already satisfied: pycparser in /usr/local/lib/python3.7/dist-packages (from cffi>=1.0->vosk) (2.21)\n"
          ]
        }
      ]
    },
    {
      "cell_type": "markdown",
      "source": [
        "# Speech Recogniton and data collection "
      ],
      "metadata": {
        "id": "W9AF7lBFCTuV"
      }
    },
    {
      "cell_type": "code",
      "source": [
        "recording=sr.Recognizer()"
      ],
      "metadata": {
        "id": "CEKHbowd_beP"
      },
      "execution_count": 37,
      "outputs": []
    },
    {
      "cell_type": "code",
      "execution_count": 38,
      "metadata": {
        "id": "-Z5rAyK89GjC",
        "colab": {
          "base_uri": "https://localhost:8080/"
        },
        "outputId": "d0d0ee05-952b-41a0-b41a-635384621c1c"
      },
      "outputs": [
        {
          "output_type": "stream",
          "name": "stdout",
          "text": [
            "Please Say something:\n"
          ]
        }
      ],
      "source": [
        "with sr.Microphone() as source: recording.adjust_for_ambient_noise(source)\n",
        "print(\"Please Say something:\")\n",
        "audio = recording.listen(source)\n"
      ]
    },
    {
      "cell_type": "code",
      "source": [
        "try:\n",
        "  data=recording.recognize_google(audio)\n",
        "except: \n",
        "  print('please speak something with text.')"
      ],
      "metadata": {
        "id": "OpQChMyC-OP1"
      },
      "execution_count": 39,
      "outputs": []
    },
    {
      "cell_type": "code",
      "execution_count": 40,
      "metadata": {
        "id": "EC7WR2R-5Q6s",
        "colab": {
          "base_uri": "https://localhost:8080/",
          "height": 53
        },
        "outputId": "64195db2-efdf-4fc0-8692-ab092e6d82d6"
      },
      "outputs": [
        {
          "output_type": "execute_result",
          "data": {
            "text/plain": [
              "'frequency,audio=wavfile.read(source)\\nsignal = source/np.power(2,15)\\nsugnal=source[:100]\\ntime_label=1000*np.arange(0,len(signal),1)/float(frequency)'"
            ],
            "application/vnd.google.colaboratory.intrinsic+json": {
              "type": "string"
            }
          },
          "metadata": {},
          "execution_count": 40
        }
      ],
      "source": [
        "frequency,audio=wavfile.read(source)\n",
        "signal = source/np.power(2,15)\n",
        "sugnal=source[:100]\n",
        "time_label=1000*np.arange(0,len(signal),1)/float(frequency)"
      ]
    },
    {
      "cell_type": "code",
      "execution_count": null,
      "metadata": {
        "colab": {
          "base_uri": "https://localhost:8080/",
          "height": 295
        },
        "id": "41n5rTeG6rMh",
        "outputId": "ac713f5e-578a-45f8-fb8f-21ac6140ba1e"
      },
      "outputs": [
        {
          "data": {
            "image/png": "[encoded data removed]",
            "text/plain": [
              "<Figure size 432x288 with 1 Axes>"
            ]
          },
          "metadata": {},
          "output_type": "display_data"
        }
      ],
      "source": [
        "plt.plot(time_label,signal,color='red')\n",
        "plt.xlabel('Time (milliseconds)')\n",
        "plt.ylabel('Amplitude')\n",
        "plt.title('Input audio signal')\n",
        "plt.show()"
      ]
    },
    {
      "cell_type": "markdown",
      "source": [
        "#Speech Sumarization \n"
      ],
      "metadata": {
        "id": "iJ8yHEE3Cmm7"
      }
    },
    {
      "cell_type": "code",
      "source": [
        "def summarize(text, per):\n",
        "    nlp = spacy.load('en_core_web_sm')\n",
        "    doc= nlp(text)\n",
        "    tokens=[token.text for token in doc]\n",
        "    word_frequencies={}\n",
        "    for word in doc:\n",
        "        if word.text.lower() not in list(STOP_WORDS):\n",
        "            if word.text.lower() not in punctuation:\n",
        "                if word.text not in word_frequencies.keys():\n",
        "                    word_frequencies[word.text] = 1\n",
        "                else:\n",
        "                    word_frequencies[word.text] += 1\n",
        "    max_frequency=max(word_frequencies.values())\n",
        "    for word in word_frequencies.keys():\n",
        "        word_frequencies[word]=word_frequencies[word]/max_frequency\n",
        "    sentence_tokens= [sent for sent in doc.sents]\n",
        "    sentence_scores = {}\n",
        "    for sent in sentence_tokens:\n",
        "        for word in sent:\n",
        "            if word.text.lower() in word_frequencies.keys():\n",
        "                if sent not in sentence_scores.keys():                            \n",
        "                    sentence_scores[sent]=word_frequencies[word.text.lower()]\n",
        "                else:\n",
        "                    sentence_scores[sent]+=word_frequencies[word.text.lower()]\n",
        "    select_length=int(len(sentence_tokens)*per)\n",
        "    summary=nlargest(select_length, sentence_scores,key=sentence_scores.get)\n",
        "    final_summary=[word.text for word in summary]\n",
        "    summary=''.join(final_summary)\n",
        "    return summary"
      ],
      "metadata": {
        "id": "M1Sr9pLjHEpG"
      },
      "execution_count": 31,
      "outputs": []
    },
    {
      "cell_type": "code",
      "source": [
        "data=\"We’ll use SpaCy to import a pre-trained NLP pipeline to help interpret the grammatical structure of the text. This will allow us to identify the most common words that are often useful to filter out (i.e. STOP_WORDS) as well as the punctuation (i.e. punctuation). We’ll also use the nlargest function to extract a percentage of the most important sentences. Our algorithm will use the following steps:\"\n",
        "\n",
        "final_summary=summarize(data,0.5)\n",
        "\n",
        "topic=input('Enter name of Topic')\n",
        "with open('{}.txt'.format(topic),'w+') as f:\n",
        "  f.write(topic+'\\n')\n",
        "  try:\n",
        "      width=int(input('Enter formatting you want'))\n",
        "      xw=textwrap.fill(final_summary,width)\n",
        "      f.write(xw)\n",
        "  except:\n",
        "      f.write(final_summary)\n",
        "    \n"
      ],
      "metadata": {
        "colab": {
          "base_uri": "https://localhost:8080/"
        },
        "id": "Zpm8fdweHIiM",
        "outputId": "cbd31675-2b82-4ba2-fca5-e1643f73560e"
      },
      "execution_count": 45,
      "outputs": [
        {
          "name": "stdout",
          "output_type": "stream",
          "text": [
            "Enter name of Topic Havard\n",
            "Enter formatting you want34\n"
          ]
        }
      ]
    },
    {
      "cell_type": "markdown",
      "source": [
        "#Linking text to video approach\n",
        "\n",
        "\n"
      ],
      "metadata": {
        "id": "LyZirV5aYy8z"
      }
    },
    {
      "cell_type": "markdown",
      "source": [
        "The main way to link a video bookmark to a text can be done by first detecting important topics in text detected in above section, then find where that topic is applied, and further link it to a time-stamp in a video."
      ],
      "metadata": {
        "id": "G7kcq56bbJHN"
      }
    },
    {
      "cell_type": "markdown",
      "source": [
        "To take notes from text we need important topics and then add particular text. This thing  is under extensive resarch and is not quite applied yet. Creating an optimized code for it will take some time. So this code works with the help of human intervention where the topics are given by human and then we find the particular topic in video and find its timestamp."
      ],
      "metadata": {
        "id": "FNfNm4bropx9"
      }
    },
    {
      "cell_type": "markdown",
      "source": [
        "Refrenced from  the research on the topic is given below and Here I will be giving my basic approach regarding this topic:-\n",
        "1.   First we will detect the text and find the most emphasised words, most important words.\n",
        "2.   Apply AI to differentiate between common, unseful words from actually important word.\n",
        "3. Then we will find these important keywords from text and find them in video and there time stamps.\n",
        "\n",
        "Now the biggest problem is to ectract the time stamps from a video which will help in making effective notes and save a lot of time based on how much time a student waste on finding the actual content he/she wants to study. \n",
        "\n",
        "Here we will first need to create a searchable video archive which will enable us to look for key words in the video.\n",
        "\n",
        "Once the key word in the video is identified we can easily put time stamp for that keyword in out documents.\n",
        "\n",
        "\n",
        "\n",
        "\n"
      ],
      "metadata": {
        "id": "Uh9yM-eLovlV"
      }
    },
    {
      "cell_type": "markdown",
      "source": [
        "# Finding Important Topics"
      ],
      "metadata": {
        "id": "pPxcjeBTArjM"
      }
    },
    {
      "cell_type": "markdown",
      "source": [
        "Below I have tried to apply the algorithm in the above mentioned section.\n",
        "\n",
        "\n",
        "---\n",
        "\n",
        "Here I will be using NLP to find keywords from the above described summary of  the text.\n",
        "We will be using LDA in this process.\n",
        "\n",
        "---\n",
        "I am using newspaper data set from sklearn to train my lda model and then use it to predict words from the summary i recieved.\n",
        "\n"
      ],
      "metadata": {
        "id": "RVdKonh_-gas"
      }
    },
    {
      "cell_type": "code",
      "source": [
        "def lemmatize_summary(text):\n",
        "  return stemmer.stem(WordnetLemmatizer().lemmatize(text,pos='v'))"
      ],
      "metadata": {
        "id": "Qv4vbzNHPdPE"
      },
      "execution_count": 2,
      "outputs": []
    },
    {
      "cell_type": "code",
      "source": [
        "def preprocess(text):\n",
        "    result=[]\n",
        "    for token in gensim.utils.simple_preprocess(text) :\n",
        "        if token not in gensim.parsing.preprocessing.STOPWORDS and len(token) > 3:\n",
        "            result.append(lemmatize_stemming(token))\n",
        "            \n",
        "    return result\n"
      ],
      "metadata": {
        "id": "oiipjWwqBcWb"
      },
      "execution_count": 3,
      "outputs": []
    },
    {
      "cell_type": "code",
      "source": [
        "processed_docs=lemmatize_summary(newsgroups_train)\n",
        "processed_docs=preprocess(processed_docs)"
      ],
      "metadata": {
        "id": "fCmXijePD9cn"
      },
      "execution_count": 46,
      "outputs": []
    },
    {
      "cell_type": "code",
      "source": [
        "dictionary = gensim.corpora.Dictionary(processed_docs)\n",
        "bow_corpus = [dictionary.doc2bow(doc) for doc in processed_docs]"
      ],
      "metadata": {
        "id": "KpNefOyTCTkd"
      },
      "execution_count": 47,
      "outputs": []
    },
    {
      "cell_type": "markdown",
      "source": [
        "Running LDA model once the preporcessing is done"
      ],
      "metadata": {
        "id": "YHA4SO3bEhqw"
      }
    },
    {
      "cell_type": "code",
      "source": [
        "lda_model =  gensim.models.LdaMulticore(bow_corpus, num_topics = 8,id2word = dictionary,passes = 10, workers = 2)\n",
        "predictions=lda_model.predict(final_summary)"
      ],
      "metadata": {
        "id": "gG1u4UiuEnHX"
      },
      "execution_count": 49,
      "outputs": []
    },
    {
      "cell_type": "markdown",
      "source": [
        "What Lda does is provide you with important words from the given text hence it is on human that how to we name this group of words. As we have already taken the name of the topic as input. We can add a header important words with important words in it."
      ],
      "metadata": {
        "id": "HWY9VqnPGKfg"
      }
    },
    {
      "cell_type": "code",
      "source": [
        "important_words=predictions\n",
        "with open('{}.txt'.format(topic),'a+') as f:\n",
        "  f.write('\\n'+'\\n')\n",
        "  f.write('Impoertant Keyword \\n')\n",
        "  f.write(important_words)\n"
      ],
      "metadata": {
        "id": "jdrwuehlGtQB"
      },
      "execution_count": 52,
      "outputs": []
    },
    {
      "cell_type": "markdown",
      "source": [
        "#Getting time stamps\n"
      ],
      "metadata": {
        "id": "F2hARokoJSRC"
      }
    },
    {
      "cell_type": "markdown",
      "source": [
        "In this section we will be working towards getting the timestamp from the audio, which in in synchrous with video in almost all the online learning platform. we will take the important_words we extracted in the previous class and then use them to find the audio time stamp in it and put it in video.\n"
      ],
      "metadata": {
        "id": "p1kzGokFJW2-"
      }
    },
    {
      "cell_type": "code",
      "source": [
        "class Word:\n",
        "  def __init__(self,dict):\n",
        "    self.conf = dict[\"conf\"]\n",
        "    self.end=dict['end']\n",
        "    self.start=dict['start']\n",
        "    self.word=sict['word']\n",
        "\n",
        "  def to_string(self):\n",
        "    return \"{:20} from {:.2f} sec to {:.2f} sec, confidence is {:.2f}%\".format(\n",
        "            self.word, self.start, self.end, self.conf*100)"
      ],
      "metadata": {
        "id": "bahHtJDVbFPd"
      },
      "execution_count": 22,
      "outputs": []
    },
    {
      "cell_type": "markdown",
      "source": [
        "The above coding cell we will be putting all words in a fomat that is suitable for generating time stamps."
      ],
      "metadata": {
        "id": "M9eKLyfBbHj9"
      }
    },
    {
      "cell_type": "code",
      "source": [
        "model_path = \"models/vosk-model-en-us-0.21\"\n",
        "\n",
        "model = Model(model_path)\n",
        "wf = recording\n",
        "rec = KaldiRecognizer(model, wf.getframerate())\n",
        "rec.SetWords(True)\n",
        "\n",
        "# get the list of JSON dictionaries\n",
        "results = []\n",
        "# recognize speech using vosk model\n",
        "while True:\n",
        "    data = wf.readframes(4000)\n",
        "    if len(data) == 0:\n",
        "        break\n",
        "    if rec.AcceptWaveform(data):\n",
        "        part_result = json.loads(rec.Result())\n",
        "        results.append(part_result)\n",
        "part_result = json.loads(rec.FinalResult())\n",
        "results.append(part_result)\n",
        "\n",
        "# convert list of JSON dictionaries to list of 'Word' objects\n",
        "list_of_Words = []\n",
        "for sentence in results:\n",
        "    if len(sentence) == 1:\n",
        "        # sometimes there are bugs in recognition \n",
        "        # and it returns an empty dictionary\n",
        "        # {'text': ''}\n",
        "        continue\n",
        "    for obj in sentence['result']:\n",
        "        w = custom_Word.Word(obj)  # create custom Word object\n",
        "        list_of_Words.append(w)  # and add it to list\n",
        "\n",
        "wf.close()  # close audiofile\n",
        "\n",
        "# output to the screen\n",
        "with open(topic+'.txt','a') as f:\n",
        "  f.write('\\n Time stamps are as follows \\n')\n",
        "  for word in list_of_words:\n",
        "    f.write(word+'\\n')\n",
        "    \n",
        "\n"
      ],
      "metadata": {
        "id": "-D0ZSPRVjcyi"
      },
      "execution_count": null,
      "outputs": []
    },
    {
      "cell_type": "markdown",
      "source": [
        "All the Notes and Time-stamps are uploaded in the file namw which was takes as input earlier.\n",
        "\n",
        "Since this code is still under development and is suitable for only a few amount of conditions."
      ],
      "metadata": {
        "id": "mc-axZQqtzEs"
      }
    },
    {
      "cell_type": "markdown",
      "source": [
        "# Refrences\n"
      ],
      "metadata": {
        "id": "fU82bzG8C313"
      }
    },
    {
      "cell_type": "markdown",
      "source": [
        "\n",
        "\n",
        "1.   Speech recogniton- https://prutor.ai/ai-with-python-speech-recognition/\n",
        "2.   Text Summarization- https://www.activestate.com/blog/how-to-do-text-summarization-with-python/\n",
        "3.Research on making notes- https://medium.com/swlh/getting-ai-to-take-my-notes-for-me-ed66aacde185\n",
        "4. NLP processing- https://towardsdatascience.com/nlp-extracting-the-main-topics-from-your-dataset-using-lda-in-minutes-21486f5aa925\n",
        "5.speech recognition with time stamp- https://towardsdatascience.com/speech-recognition-with-timestamps-934ede4234b2\n",
        "\n"
      ],
      "metadata": {
        "id": "Q0u77sdiC8Tv"
      }
    },
    {
      "cell_type": "markdown",
      "source": [
        "Thankyou and have a nice day!\n",
        "\n",
        "\n",
        "\n",
        "Priyam Jain\n",
        "\n",
        "20BAI10087(VIT BHOPAL UNIVERSITY)\n",
        "\n",
        "AI and ML"
      ],
      "metadata": {
        "id": "Qy-c1_6vrBWI"
      }
    }
  ],
  "metadata": {
    "colab": {
      "name": "Internship hackathon.ipynb",
      "provenance": [],
      "collapsed_sections": []
    },
    "kernelspec": {
      "display_name": "Python 3",
      "name": "python3"
    },
    "language_info": {
      "name": "python"
    }
  },
  "nbformat": 4,
  "nbformat_minor": 0
}